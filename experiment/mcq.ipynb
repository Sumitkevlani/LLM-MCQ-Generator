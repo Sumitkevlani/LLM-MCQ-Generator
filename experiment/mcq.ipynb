{
 "cells": [
  {
   "cell_type": "code",
   "execution_count": 1,
   "metadata": {},
   "outputs": [],
   "source": [
    "import os\n",
    "import json\n",
    "import pandas as pd\n",
    "import traceback"
   ]
  },
  {
   "cell_type": "code",
   "execution_count": 2,
   "metadata": {},
   "outputs": [
    {
     "data": {
      "text/plain": [
       "True"
      ]
     },
     "execution_count": 2,
     "metadata": {},
     "output_type": "execute_result"
    }
   ],
   "source": [
    "from dotenv import load_dotenv\n",
    "load_dotenv()"
   ]
  },
  {
   "cell_type": "code",
   "execution_count": 3,
   "metadata": {},
   "outputs": [],
   "source": [
    "from langchain_openai import ChatOpenAI"
   ]
  },
  {
   "cell_type": "code",
   "execution_count": 4,
   "metadata": {},
   "outputs": [],
   "source": [
    "KEY = os.getenv(\"OPENAI_API_KEY\")"
   ]
  },
  {
   "cell_type": "code",
   "execution_count": 5,
   "metadata": {},
   "outputs": [],
   "source": [
    "llm = ChatOpenAI(openai_api_key=KEY,model_name=\"gpt-3.5-turbo\",temperature=0.5)"
   ]
  },
  {
   "cell_type": "code",
   "execution_count": 6,
   "metadata": {},
   "outputs": [],
   "source": [
    "from langchain.llms import OpenAI\n",
    "from langchain.prompts import PromptTemplate\n",
    "from langchain.chains import LLMChain\n",
    "from langchain.chains import SequentialChain\n",
    "from langchain.callbacks import get_openai_callback\n",
    "import PyPDF2"
   ]
  },
  {
   "cell_type": "code",
   "execution_count": 12,
   "metadata": {},
   "outputs": [],
   "source": [
    "RESPONSE_JSON = {\n",
    "    \"1\": {\n",
    "        \"question\":\"multiple choice question\",\n",
    "        \"options\":{\n",
    "            \"a\":\"choice here\",\n",
    "            \"b\":\"choice here\",\n",
    "            \"c\":\"choice here\",\n",
    "            \"d\":\"choice here\"   \n",
    "        },\n",
    "        \"correct\":\"correct_answer\"\n",
    "    },\n",
    "    \"2\": {\n",
    "        \"question\":\"multiple choice question\",\n",
    "        \"options\":{\n",
    "            \"a\":\"choice here\",\n",
    "            \"b\":\"choice here\",\n",
    "            \"c\":\"choice here\",\n",
    "            \"d\":\"choice here\"   \n",
    "        },\n",
    "        \"correct\":\"correct_answer\"\n",
    "    },\n",
    "    \"3\": {\n",
    "        \"question\":\"multiple choice question\",\n",
    "        \"options\":{\n",
    "            \"a\":\"choice here\",\n",
    "            \"b\":\"choice here\",\n",
    "            \"c\":\"choice here\",\n",
    "            \"d\":\"choice here\"   \n",
    "        },\n",
    "        \"correct\":\"correct_answer\"\n",
    "    },\n",
    "}"
   ]
  },
  {
   "cell_type": "code",
   "execution_count": 8,
   "metadata": {},
   "outputs": [],
   "source": [
    "TEMPLATE = \"\"\"\n",
    "Text:{text}\n",
    "You are an expert MCQ maker. Given the above text, it is your job to create a quiz of {number} multiple choice questions for {subject} subject with {tone} tone.\n",
    "Make sure that the questions should not be repeated and check all the questions conforming the text as well.\n",
    "Make sure you format your response like RESPONSE_JSON below and use it as a guide.\n",
    "Ensure to make {number} MCQs.\n",
    "### RESPONSE_JSON\n",
    "{response_json}\n",
    "\"\"\""
   ]
  },
  {
   "cell_type": "code",
   "execution_count": 9,
   "metadata": {},
   "outputs": [],
   "source": [
    "quiz_generation_prompt = PromptTemplate(\n",
    "    input_variables=[\"text\",\"subject\",\"number\",\"tone\",\"response_json\"],\n",
    "    template=TEMPLATE\n",
    ")"
   ]
  },
  {
   "cell_type": "code",
   "execution_count": 10,
   "metadata": {},
   "outputs": [
    {
     "name": "stderr",
     "output_type": "stream",
     "text": [
      "g:\\LLM-MCQ-Generator\\env\\Lib\\site-packages\\langchain_core\\_api\\deprecation.py:119: LangChainDeprecationWarning: The class `LLMChain` was deprecated in LangChain 0.1.17 and will be removed in 0.3.0. Use RunnableSequence, e.g., `prompt | llm` instead.\n",
      "  warn_deprecated(\n"
     ]
    }
   ],
   "source": [
    "quiz_chain = LLMChain(llm=llm,prompt=quiz_generation_prompt,output_key=\"quiz\",verbose=True)"
   ]
  },
  {
   "cell_type": "code",
   "execution_count": 11,
   "metadata": {},
   "outputs": [],
   "source": [
    "EVALUATION_TEMPLATE = \"\"\"\n",
    "You are an expert grammarian and writer. Given a multiple choice quiz for {subject} subject.\n",
    "You need to evaluate the complexity of the question and give a complete analysis of the quiz. Only use at max 50 words for the analysis. \n",
    "If the quiz is not as per the cognitive and thinkig ability of the student then update the quiz questions that need to be changed and change the tone such that it perfectly fits the student abilities.\n",
    "Quiz_MCQs:\n",
    "{quiz}\n",
    "\"\"\""
   ]
  },
  {
   "cell_type": "code",
   "execution_count": 15,
   "metadata": {},
   "outputs": [],
   "source": [
    "quiz_evaluation_prompt = PromptTemplate(input_variables=[\"subject\",\"quiz\"],template=EVALUATION_TEMPLATE)"
   ]
  },
  {
   "cell_type": "code",
   "execution_count": 16,
   "metadata": {},
   "outputs": [],
   "source": [
    "review_chain = LLMChain(llm=llm,prompt=quiz_evaluation_prompt,output_key=\"review\",verbose=True)"
   ]
  },
  {
   "cell_type": "code",
   "execution_count": 17,
   "metadata": {},
   "outputs": [],
   "source": [
    "generate_quiz_chain = SequentialChain(chains=[quiz_chain,review_chain],input_variables=[\"text\",\"subject\",\"number\",\"tone\",\"response_json\"],output_variables=[\"quiz\",\"review\"],verbose=True)"
   ]
  },
  {
   "cell_type": "code",
   "execution_count": 18,
   "metadata": {},
   "outputs": [
    {
     "name": "stdout",
     "output_type": "stream",
     "text": [
      "Machine Learning is defined as a technology that is used to train machines to perform various actions such as predictions, recommendations, estimations, etc., based on historical data or past experience.\n",
      "\n",
      "Machine Learning enables computers to behave like human beings by training them with the help of past experience and predicted data.\n",
      "\n",
      "There are three key aspects of Machine Learning, which are as follows:\n",
      "\n",
      "Task: A task is defined as the main problem in which we are interested. This task/problem can be related to the predictions and recommendations and estimations, etc.\n",
      "Experience: It is defined as learning from historical or past data and used to estimate and resolve future tasks.\n",
      "Performance: It is defined as the capacity of any machine to resolve any machine learning task or problem and provide the best outcome for the same. However, performance is dependent on the type of machine learning problems.\n"
     ]
    }
   ],
   "source": [
    "file_path=\"G:\\LLM-MCQ-Generator\\data.txt\"\n",
    "\n",
    "with open(file_path,'r') as file:\n",
    "    TEXT = file.read()\n",
    "\n",
    "print(TEXT)"
   ]
  },
  {
   "cell_type": "code",
   "execution_count": 19,
   "metadata": {},
   "outputs": [
    {
     "data": {
      "text/plain": [
       "'{\"1\": {\"question\": \"multiple choice question\", \"options\": {\"a\": \"choice here\", \"b\": \"choice here\", \"c\": \"choice here\", \"d\": \"choice here\"}, \"correct\": \"correct_answer\"}, \"2\": {\"question\": \"multiple choice question\", \"options\": {\"a\": \"choice here\", \"b\": \"choice here\", \"c\": \"choice here\", \"d\": \"choice here\"}, \"correct\": \"correct_answer\"}, \"3\": {\"question\": \"multiple choice question\", \"options\": {\"a\": \"choice here\", \"b\": \"choice here\", \"c\": \"choice here\", \"d\": \"choice here\"}, \"correct\": \"correct_answer\"}}'"
      ]
     },
     "execution_count": 19,
     "metadata": {},
     "output_type": "execute_result"
    }
   ],
   "source": [
    "# Serialize the Python dictionary into a JSON-formatted string\n",
    "json.dumps(RESPONSE_JSON)"
   ]
  },
  {
   "cell_type": "code",
   "execution_count": 45,
   "metadata": {},
   "outputs": [],
   "source": [
    "SUBJECT = \"MACHINE LEARNING\",\n",
    "NUMBER = 2,\n",
    "TONE = \"EASY\""
   ]
  },
  {
   "cell_type": "code",
   "execution_count": 46,
   "metadata": {},
   "outputs": [
    {
     "name": "stdout",
     "output_type": "stream",
     "text": [
      "\n",
      "\n",
      "\u001b[1m> Entering new SequentialChain chain...\u001b[0m\n",
      "\n",
      "\n",
      "\u001b[1m> Entering new LLMChain chain...\u001b[0m\n",
      "Prompt after formatting:\n",
      "\u001b[32;1m\u001b[1;3m\n",
      "Text:Machine Learning is defined as a technology that is used to train machines to perform various actions such as predictions, recommendations, estimations, etc., based on historical data or past experience.\n",
      "\n",
      "Machine Learning enables computers to behave like human beings by training them with the help of past experience and predicted data.\n",
      "\n",
      "There are three key aspects of Machine Learning, which are as follows:\n",
      "\n",
      "Task: A task is defined as the main problem in which we are interested. This task/problem can be related to the predictions and recommendations and estimations, etc.\n",
      "Experience: It is defined as learning from historical or past data and used to estimate and resolve future tasks.\n",
      "Performance: It is defined as the capacity of any machine to resolve any machine learning task or problem and provide the best outcome for the same. However, performance is dependent on the type of machine learning problems.\n",
      "You are an expert MCQ maker. Given the above text, it is your job to create a quiz of (2,) multiple choice questions for ('MACHINE LEARNING',) subject with EASY tone.\n",
      "Make sure that the questions should not be repeated and check all the questions conforming the text as well.\n",
      "Make sure you format your response like RESPONSE_JSON below and use it as a guide.\n",
      "Ensure to make (2,) MCQs.\n",
      "### RESPONSE_JSON\n",
      "{\"1\": {\"question\": \"multiple choice question\", \"options\": {\"a\": \"choice here\", \"b\": \"choice here\", \"c\": \"choice here\", \"d\": \"choice here\"}, \"correct\": \"correct_answer\"}, \"2\": {\"question\": \"multiple choice question\", \"options\": {\"a\": \"choice here\", \"b\": \"choice here\", \"c\": \"choice here\", \"d\": \"choice here\"}, \"correct\": \"correct_answer\"}, \"3\": {\"question\": \"multiple choice question\", \"options\": {\"a\": \"choice here\", \"b\": \"choice here\", \"c\": \"choice here\", \"d\": \"choice here\"}, \"correct\": \"correct_answer\"}}\n",
      "\u001b[0m\n",
      "\n",
      "\u001b[1m> Finished chain.\u001b[0m\n",
      "\n",
      "\n",
      "\u001b[1m> Entering new LLMChain chain...\u001b[0m\n",
      "Prompt after formatting:\n",
      "\u001b[32;1m\u001b[1;3m\n",
      "You are an expert grammarian and writer. Given a multiple choice quiz for ('MACHINE LEARNING',) subject.\n",
      "You need to evaluate the complexity of the question and give a complete analysis of the quiz. Only use at max 50 words for the analysis. \n",
      "If the quiz is not as per the cognitive and thinkig ability of the student then update the quiz questions that need to be changed and change the tone such that it perfectly fits the student abilities.\n",
      "Quiz_MCQs:\n",
      "\n",
      "{\n",
      "    \"1\": {\n",
      "        \"question\": \"What is the main problem in which we are interested in Machine Learning?\",\n",
      "        \"options\": {\n",
      "            \"a\": \"Experience\",\n",
      "            \"b\": \"Task\",\n",
      "            \"c\": \"Performance\",\n",
      "            \"d\": \"Prediction\"\n",
      "        },\n",
      "        \"correct\": \"b\"\n",
      "    },\n",
      "    \"2\": {\n",
      "        \"question\": \"What is defined as learning from historical or past data in Machine Learning?\",\n",
      "        \"options\": {\n",
      "            \"a\": \"Task\",\n",
      "            \"b\": \"Performance\",\n",
      "            \"c\": \"Experience\",\n",
      "            \"d\": \"Estimation\"\n",
      "        },\n",
      "        \"correct\": \"c\"\n",
      "    }\n",
      "}\n",
      "\u001b[0m\n",
      "\n",
      "\u001b[1m> Finished chain.\u001b[0m\n",
      "\n",
      "\u001b[1m> Finished chain.\u001b[0m\n"
     ]
    }
   ],
   "source": [
    "# Setting up the token \n",
    "with get_openai_callback() as cb:\n",
    "    response = generate_quiz_chain(\n",
    "        {\n",
    "        \"text\": TEXT,\n",
    "        \"subject\": SUBJECT,\n",
    "        \"number\": NUMBER,\n",
    "        \"tone\": TONE,\n",
    "        \"response_json\": json.dumps(RESPONSE_JSON)\n",
    "        }\n",
    "    )"
   ]
  },
  {
   "cell_type": "code",
   "execution_count": 47,
   "metadata": {},
   "outputs": [
    {
     "name": "stdout",
     "output_type": "stream",
     "text": [
      "Total Tokens: 882\n",
      "Prompt Tokens: 663\n",
      "Completion Tokens: 219\n",
      "Total Cost: 0.0014325\n"
     ]
    }
   ],
   "source": [
    "print(f\"Total Tokens: {cb.total_tokens}\")\n",
    "print(f\"Prompt Tokens: {cb.prompt_tokens}\")\n",
    "print(f\"Completion Tokens: {cb.completion_tokens}\")\n",
    "print(f\"Total Cost: {cb.total_cost}\")"
   ]
  },
  {
   "cell_type": "code",
   "execution_count": 55,
   "metadata": {},
   "outputs": [],
   "source": [
    "quiz = response['quiz']"
   ]
  },
  {
   "cell_type": "code",
   "execution_count": 56,
   "metadata": {},
   "outputs": [
    {
     "name": "stdout",
     "output_type": "stream",
     "text": [
      "{'1': {'question': 'What is the main problem in which we are interested in Machine Learning?', 'options': {'a': 'Experience', 'b': 'Task', 'c': 'Performance', 'd': 'Prediction'}, 'correct': 'b'}, '2': {'question': 'What is defined as learning from historical or past data in Machine Learning?', 'options': {'a': 'Task', 'b': 'Performance', 'c': 'Experience', 'd': 'Estimation'}, 'correct': 'c'}}\n"
     ]
    }
   ],
   "source": [
    "quiz = json.loads(quiz)\n",
    "print(quiz)"
   ]
  },
  {
   "cell_type": "code",
   "execution_count": 57,
   "metadata": {},
   "outputs": [],
   "source": [
    "quiz_table_data = []\n",
    "for key,value in quiz.items():\n",
    "    question = value[\"question\"]\n",
    "    options = \" | \".join(\n",
    "        [\n",
    "            f\"{option}:{option_value}\"\n",
    "            for option, option_value in value[\"options\"].items()\n",
    "        ]\n",
    "    )\n",
    "    correct = value[\"correct\"]\n",
    "    quiz_table_data.append({\"question\":question,\"options\":options,\"correct\":correct})"
   ]
  },
  {
   "cell_type": "code",
   "execution_count": 58,
   "metadata": {},
   "outputs": [
    {
     "data": {
      "text/plain": [
       "[{'question': 'What is the main problem in which we are interested in Machine Learning?',\n",
       "  'options': 'a:Experience | b:Task | c:Performance | d:Prediction',\n",
       "  'correct': 'b'},\n",
       " {'question': 'What is defined as learning from historical or past data in Machine Learning?',\n",
       "  'options': 'a:Task | b:Performance | c:Experience | d:Estimation',\n",
       "  'correct': 'c'}]"
      ]
     },
     "execution_count": 58,
     "metadata": {},
     "output_type": "execute_result"
    }
   ],
   "source": [
    "quiz_table_data"
   ]
  },
  {
   "cell_type": "code",
   "execution_count": 62,
   "metadata": {},
   "outputs": [
    {
     "name": "stdout",
     "output_type": "stream",
     "text": [
      "                                            question  \\\n",
      "0  What is the main problem in which we are inter...   \n",
      "1  What is defined as learning from historical or...   \n",
      "\n",
      "                                             options correct  \n",
      "0  a:Experience | b:Task | c:Performance | d:Pred...       b  \n",
      "1  a:Task | b:Performance | c:Experience | d:Esti...       c  \n"
     ]
    }
   ],
   "source": [
    "quiz=pd.DataFrame(quiz_table_data)\n",
    "print(quiz)"
   ]
  },
  {
   "cell_type": "code",
   "execution_count": 60,
   "metadata": {},
   "outputs": [],
   "source": [
    "quiz.to_csv('machinelearningquiz.csv')"
   ]
  },
  {
   "cell_type": "code",
   "execution_count": null,
   "metadata": {},
   "outputs": [],
   "source": []
  }
 ],
 "metadata": {
  "kernelspec": {
   "display_name": "env",
   "language": "python",
   "name": "python3"
  },
  "language_info": {
   "codemirror_mode": {
    "name": "ipython",
    "version": 3
   },
   "file_extension": ".py",
   "mimetype": "text/x-python",
   "name": "python",
   "nbconvert_exporter": "python",
   "pygments_lexer": "ipython3",
   "version": "3.11.4"
  }
 },
 "nbformat": 4,
 "nbformat_minor": 2
}
